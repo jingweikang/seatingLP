{
 "cells": [
  {
   "cell_type": "markdown",
   "metadata": {},
   "source": [
    "Student seating preferences are handled on a first-come first serve basis. If the company table that the student wants to sit at is full, we move on to their next preference. Otherwise, we seat the student at the table and move on to the next student."
   ]
  },
  {
   "cell_type": "code",
   "execution_count": 1,
   "metadata": {},
   "outputs": [],
   "source": [
    "import os\n",
    "import numpy as np\n",
    "import pandas as pd"
   ]
  },
  {
   "cell_type": "code",
   "execution_count": 2,
   "metadata": {},
   "outputs": [
    {
     "data": {
      "text/plain": [
       "['SampleLPFinal.xlsx',\n",
       " 'SeatingLP.ipynb',\n",
       " 'LPformulation',\n",
       " '.DS_Store',\n",
       " 'README.md',\n",
       " 'SampleCompanies.csv',\n",
       " '.ipynb_checkpoints',\n",
       " 'SimpleSeating.ipynb',\n",
       " '.git',\n",
       " 'SampleFinal.xlsx',\n",
       " 'SampleStudents.csv']"
      ]
     },
     "execution_count": 2,
     "metadata": {},
     "output_type": "execute_result"
    }
   ],
   "source": [
    "os.listdir()"
   ]
  },
  {
   "cell_type": "markdown",
   "metadata": {},
   "source": [
    "### Import data"
   ]
  },
  {
   "cell_type": "code",
   "execution_count": 3,
   "metadata": {},
   "outputs": [],
   "source": [
    "companies_df = pd.read_csv('SampleCompanies.csv')"
   ]
  },
  {
   "cell_type": "code",
   "execution_count": 4,
   "metadata": {},
   "outputs": [
    {
     "data": {
      "text/html": [
       "<div>\n",
       "<style scoped>\n",
       "    .dataframe tbody tr th:only-of-type {\n",
       "        vertical-align: middle;\n",
       "    }\n",
       "\n",
       "    .dataframe tbody tr th {\n",
       "        vertical-align: top;\n",
       "    }\n",
       "\n",
       "    .dataframe thead th {\n",
       "        text-align: right;\n",
       "    }\n",
       "</style>\n",
       "<table border=\"1\" class=\"dataframe\">\n",
       "  <thead>\n",
       "    <tr style=\"text-align: right;\">\n",
       "      <th></th>\n",
       "      <th>Company</th>\n",
       "      <th>Maximum load</th>\n",
       "    </tr>\n",
       "  </thead>\n",
       "  <tbody>\n",
       "    <tr>\n",
       "      <td>0</td>\n",
       "      <td>Company A</td>\n",
       "      <td>6</td>\n",
       "    </tr>\n",
       "    <tr>\n",
       "      <td>1</td>\n",
       "      <td>Company B</td>\n",
       "      <td>12</td>\n",
       "    </tr>\n",
       "    <tr>\n",
       "      <td>2</td>\n",
       "      <td>Company C</td>\n",
       "      <td>6</td>\n",
       "    </tr>\n",
       "    <tr>\n",
       "      <td>3</td>\n",
       "      <td>Company D</td>\n",
       "      <td>6</td>\n",
       "    </tr>\n",
       "    <tr>\n",
       "      <td>4</td>\n",
       "      <td>Company E</td>\n",
       "      <td>6</td>\n",
       "    </tr>\n",
       "    <tr>\n",
       "      <td>5</td>\n",
       "      <td>Company F</td>\n",
       "      <td>7</td>\n",
       "    </tr>\n",
       "    <tr>\n",
       "      <td>6</td>\n",
       "      <td>Company G</td>\n",
       "      <td>6</td>\n",
       "    </tr>\n",
       "  </tbody>\n",
       "</table>\n",
       "</div>"
      ],
      "text/plain": [
       "     Company  Maximum load\n",
       "0  Company A             6\n",
       "1  Company B            12\n",
       "2  Company C             6\n",
       "3  Company D             6\n",
       "4  Company E             6\n",
       "5  Company F             7\n",
       "6  Company G             6"
      ]
     },
     "execution_count": 4,
     "metadata": {},
     "output_type": "execute_result"
    }
   ],
   "source": [
    "companies_df"
   ]
  },
  {
   "cell_type": "code",
   "execution_count": 5,
   "metadata": {},
   "outputs": [],
   "source": [
    "students_df = pd.read_csv('SampleStudents.csv')"
   ]
  },
  {
   "cell_type": "code",
   "execution_count": 6,
   "metadata": {},
   "outputs": [
    {
     "data": {
      "text/html": [
       "<div>\n",
       "<style scoped>\n",
       "    .dataframe tbody tr th:only-of-type {\n",
       "        vertical-align: middle;\n",
       "    }\n",
       "\n",
       "    .dataframe tbody tr th {\n",
       "        vertical-align: top;\n",
       "    }\n",
       "\n",
       "    .dataframe thead th {\n",
       "        text-align: right;\n",
       "    }\n",
       "</style>\n",
       "<table border=\"1\" class=\"dataframe\">\n",
       "  <thead>\n",
       "    <tr style=\"text-align: right;\">\n",
       "      <th></th>\n",
       "      <th>What is your name?</th>\n",
       "      <th>#1 Interest</th>\n",
       "      <th>#2 Interest</th>\n",
       "      <th>#3 Interest</th>\n",
       "      <th>#4 Interest</th>\n",
       "      <th>#5 Interest</th>\n",
       "      <th>#6 Interest</th>\n",
       "      <th>#7 Interest</th>\n",
       "    </tr>\n",
       "  </thead>\n",
       "  <tbody>\n",
       "    <tr>\n",
       "      <td>0</td>\n",
       "      <td>Jamie Obrien</td>\n",
       "      <td>Company A</td>\n",
       "      <td>Company B</td>\n",
       "      <td>Company C</td>\n",
       "      <td>Company D</td>\n",
       "      <td>Company E</td>\n",
       "      <td>Company F</td>\n",
       "      <td>Company G</td>\n",
       "    </tr>\n",
       "    <tr>\n",
       "      <td>1</td>\n",
       "      <td>Gilberto Ortega</td>\n",
       "      <td>Company G</td>\n",
       "      <td>Company D</td>\n",
       "      <td>Company C</td>\n",
       "      <td>Company B</td>\n",
       "      <td>Company A</td>\n",
       "      <td>Company E</td>\n",
       "      <td>Company F</td>\n",
       "    </tr>\n",
       "    <tr>\n",
       "      <td>2</td>\n",
       "      <td>Anne Tyler</td>\n",
       "      <td>Company B</td>\n",
       "      <td>Company E</td>\n",
       "      <td>Company G</td>\n",
       "      <td>Company A</td>\n",
       "      <td>Company F</td>\n",
       "      <td>Company D</td>\n",
       "      <td>Company C</td>\n",
       "    </tr>\n",
       "    <tr>\n",
       "      <td>3</td>\n",
       "      <td>Marshall Underwood</td>\n",
       "      <td>Company G</td>\n",
       "      <td>Company B</td>\n",
       "      <td>Company C</td>\n",
       "      <td>Company E</td>\n",
       "      <td>Company A</td>\n",
       "      <td>Company F</td>\n",
       "      <td>Company D</td>\n",
       "    </tr>\n",
       "    <tr>\n",
       "      <td>4</td>\n",
       "      <td>Nicholas Howard</td>\n",
       "      <td>Company E</td>\n",
       "      <td>Company D</td>\n",
       "      <td>Company F</td>\n",
       "      <td>Company B</td>\n",
       "      <td>Company A</td>\n",
       "      <td>Company C</td>\n",
       "      <td>Company G</td>\n",
       "    </tr>\n",
       "  </tbody>\n",
       "</table>\n",
       "</div>"
      ],
      "text/plain": [
       "   What is your name? #1 Interest #2 Interest #3 Interest #4 Interest  \\\n",
       "0        Jamie Obrien   Company A   Company B   Company C   Company D   \n",
       "1     Gilberto Ortega   Company G   Company D   Company C   Company B   \n",
       "2          Anne Tyler   Company B   Company E   Company G   Company A   \n",
       "3  Marshall Underwood   Company G   Company B   Company C   Company E   \n",
       "4     Nicholas Howard   Company E   Company D   Company F   Company B   \n",
       "\n",
       "  #5 Interest #6 Interest #7 Interest  \n",
       "0   Company E   Company F   Company G  \n",
       "1   Company A   Company E   Company F  \n",
       "2   Company F   Company D   Company C  \n",
       "3   Company A   Company F   Company D  \n",
       "4   Company A   Company C   Company G  "
      ]
     },
     "execution_count": 6,
     "metadata": {},
     "output_type": "execute_result"
    }
   ],
   "source": [
    "students_df.head()"
   ]
  },
  {
   "cell_type": "markdown",
   "metadata": {},
   "source": [
    "### Specify number of rotations to event"
   ]
  },
  {
   "cell_type": "code",
   "execution_count": 7,
   "metadata": {},
   "outputs": [],
   "source": [
    "rotations = 3"
   ]
  },
  {
   "cell_type": "markdown",
   "metadata": {},
   "source": [
    "### Seat students"
   ]
  },
  {
   "cell_type": "code",
   "execution_count": 8,
   "metadata": {},
   "outputs": [],
   "source": [
    "# Extract dataframe info into a dict\n",
    "student_preferences = {}\n",
    "for row in students_df.itertuples():\n",
    "    student_preferences[row[1]] = list(row[2:])\n",
    "# Extract company info into a dict\n",
    "company_capacity = {}\n",
    "for row in companies_df.itertuples():\n",
    "    company_capacity[row[1]] = {\"max\" : row[2]}"
   ]
  },
  {
   "cell_type": "code",
   "execution_count": 9,
   "metadata": {},
   "outputs": [],
   "source": [
    "# copy original dictionary\n",
    "import copy\n",
    "student_preferences_orig = copy.deepcopy(student_preferences)"
   ]
  },
  {
   "cell_type": "code",
   "execution_count": 10,
   "metadata": {},
   "outputs": [],
   "source": [
    "# store lists of who is sitting where at each rotation\n",
    "student_seating = {student: {} for student in student_preferences}\n",
    "company_seating = {company: {} for company in company_capacity}\n",
    "# for each rotation\n",
    "for r in np.arange(rotations):\n",
    "    rotation_name = 'rotation' + str(r + 1)\n",
    "    # for each student\n",
    "    for student in student_preferences:\n",
    "        # iterate through preference list until find a company that has seats\n",
    "        company_for_this_rotation = \"\"\n",
    "        for company in student_preferences[student]:\n",
    "            # if company currently does not have a list of students for the rotation, add it\n",
    "            if not company_seating[company].get(rotation_name):\n",
    "                company_seating[company][rotation_name] = []\n",
    "            # if there is still space at the table for this rotation\n",
    "            if len(company_seating[company][rotation_name]) < company_capacity[company]['max']:\n",
    "                company_for_this_rotation = company\n",
    "                # remove company from preference list\n",
    "                student_preferences[student].remove(company_for_this_rotation)\n",
    "                break\n",
    "        # add company as student's seating assignment for this rotation\n",
    "        student_seating[student][rotation_name] = company_for_this_rotation\n",
    "        # add student to company's seating list for this rotation\n",
    "        if company_for_this_rotation:\n",
    "            company_seating[company][rotation_name].append(student)\n",
    "# calculate satisfaction scores\n",
    "for student in student_seating:\n",
    "    satisfaction_score = 0\n",
    "    n = len(student_preferences_orig[student])\n",
    "    for rotation_name in student_seating[student]:\n",
    "        if student_seating[student][rotation_name] in student_preferences_orig[student]:\n",
    "            satisfaction_score += n-student_preferences_orig[student].index(student_seating[student][rotation_name])\n",
    "    # normalize score\n",
    "    satisfaction_score /= sum([n - r for r in np.arange(rotations)])\n",
    "    student_seating[student]['satisfaction'] = satisfaction_score"
   ]
  },
  {
   "cell_type": "code",
   "execution_count": 11,
   "metadata": {},
   "outputs": [],
   "source": [
    "student_seating_df = pd.DataFrame.from_dict(data=student_seating, orient='index')"
   ]
  },
  {
   "cell_type": "code",
   "execution_count": 12,
   "metadata": {},
   "outputs": [],
   "source": [
    "company_seating_df = pd.DataFrame.from_dict(data=company_seating, orient='index')"
   ]
  },
  {
   "cell_type": "markdown",
   "metadata": {},
   "source": [
    "### Export to Excel"
   ]
  },
  {
   "cell_type": "code",
   "execution_count": 13,
   "metadata": {},
   "outputs": [],
   "source": [
    "# write to excel\n",
    "from pandas import ExcelWriter"
   ]
  },
  {
   "cell_type": "code",
   "execution_count": 14,
   "metadata": {},
   "outputs": [],
   "source": [
    "def save_xls(list_dfs, xls_path, sheet_names):\n",
    "    with ExcelWriter(xls_path) as writer:\n",
    "        for n, df in enumerate(list_dfs):\n",
    "            df.to_excel(writer, sheet_names[n])\n",
    "        writer.save()"
   ]
  },
  {
   "cell_type": "code",
   "execution_count": 15,
   "metadata": {},
   "outputs": [],
   "source": [
    "list_dfs = [student_seating_df, company_seating_df]\n",
    "xls_path = \"SampleSimpleFinal.xlsx\"\n",
    "sheet_names = ['Student Seating', 'Company Seating']"
   ]
  },
  {
   "cell_type": "code",
   "execution_count": 16,
   "metadata": {},
   "outputs": [],
   "source": [
    "save_xls(list_dfs, xls_path, sheet_names)"
   ]
  },
  {
   "cell_type": "code",
   "execution_count": null,
   "metadata": {},
   "outputs": [],
   "source": []
  }
 ],
 "metadata": {
  "kernelspec": {
   "display_name": "Python 3",
   "language": "python",
   "name": "python3"
  },
  "language_info": {
   "codemirror_mode": {
    "name": "ipython",
    "version": 3
   },
   "file_extension": ".py",
   "mimetype": "text/x-python",
   "name": "python",
   "nbconvert_exporter": "python",
   "pygments_lexer": "ipython3",
   "version": "3.7.4"
  }
 },
 "nbformat": 4,
 "nbformat_minor": 2
}
